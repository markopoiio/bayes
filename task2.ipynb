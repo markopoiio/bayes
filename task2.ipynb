{
 "cells": [
  {
   "cell_type": "markdown",
   "id": "f3ef91af",
   "metadata": {},
   "source": [
    "# Метод Шерлока"
   ]
  },
  {
   "cell_type": "code",
   "execution_count": 8,
   "id": "26d7e7be",
   "metadata": {},
   "outputs": [],
   "source": [
    "import pandas as pd\n",
    "from matplotlib import pyplot as plt\n",
    "import numpy as np\n",
    "import random\n",
    "from sklearn.preprocessing import normalize\n",
    "from sklearn import linear_model\n",
    "from sklearn.utils._testing import ignore_warnings\n",
    "from sklearn.exceptions import ConvergenceWarning\n"
   ]
  },
  {
   "cell_type": "code",
   "execution_count": 9,
   "id": "10cc516b",
   "metadata": {},
   "outputs": [
    {
     "name": "stdout",
     "output_type": "stream",
     "text": [
      "абвгдежзийклмнопрстуфхцчшщъыьэюя ё\n",
      "шчбфилеоъакмпёсйзыжругэнхцдьщ твюя\n"
     ]
    }
   ],
   "source": [
    "symbols = [chr(i+ord(\"а\")) for i in range(32)] + [\" \",\"ё\"]\n",
    "print(*symbols, sep='')\n",
    "shuffled = symbols.copy()\n",
    "random.shuffle(shuffled)\n",
    "print(*shuffled, sep='')"
   ]
  },
  {
   "cell_type": "code",
   "execution_count": 10,
   "id": "c661e5c7",
   "metadata": {},
   "outputs": [],
   "source": [
    "def count_freq(fname):\n",
    "    with open(fname,'r') as f:\n",
    "        freq = {}\n",
    "        for i in symbols: \n",
    "            freq[i] = 0\n",
    "\n",
    "        for i in range(5000):\n",
    "            try:\n",
    "                l = f.readline().lower()\n",
    "            except:\n",
    "                break\n",
    "            for s in symbols:\n",
    "                freq[s] += l.count(s)\n",
    "\n",
    "    num = sum(freq.values())\n",
    "    for s in freq:\n",
    "        freq[s] /= num\n",
    "        \n",
    "    return {k: v for k, v in sorted(freq.items(), key=lambda x: -x[1])}\n",
    "    #return freq"
   ]
  },
  {
   "cell_type": "code",
   "execution_count": 11,
   "id": "c8312121",
   "metadata": {},
   "outputs": [
    {
     "name": "stdout",
     "output_type": "stream",
     "text": [
      " оеанитслрвкмдупяьыгзбчйжшхюцэщфъё\n"
     ]
    }
   ],
   "source": [
    "hero = \"hero_of_our_time.txt\"\n",
    "hero_freq = count_freq(hero)\n",
    "print(*hero_freq, sep='')"
   ]
  },
  {
   "cell_type": "code",
   "execution_count": 12,
   "id": "4a68d895",
   "metadata": {},
   "outputs": [],
   "source": [
    "shuffler = {i:j for (i,j) in zip(symbols, shuffled)}"
   ]
  },
  {
   "cell_type": "code",
   "execution_count": 13,
   "id": "90da4bc9",
   "metadata": {},
   "outputs": [
    {
     "name": "stdout",
     "output_type": "stream",
     "text": [
      "\n",
      "–юёрюжшкюнжсюе?\n",
      "\n",
      "–юйсыпсжзъжл,юкшкюкрзъжыв.\n",
      "\n",
      "ъюбюышпспюилмл,юфри-фсзшюкрзъмшыщ;юйсючскшпюллюйсмошмъюмлфкълюыжзракъюсчмшксб,юшюёшюблзхъёлюмлешмшюнлзёшвюжрнш,южшкшвюнлзёшв,юнжсюёшюжлпёспюёлчлюсёшюкшошмшыщюйвжёсп.\n",
      "\n",
      "реюпьюзшомъншмъюйснжсбртюыжшёэът,юкзсбмъюскзрештцъгюллюышкмла,юъюйлзлиюёшпъюплмщкшмъюйзъблжёьлюсфсёщкъ,юксфишюйшгёрмюыьзса,югсмсиёьаюблжлз,юрцлмщлюошфрилмсюъюйсхлмюплмкъаюисеищ.юлибшюрыйлмювюёшкъёржщючрзкр,юкшкюйсбшмъмюыёлф.ювюыючмшфсфсблёълпюйсыпсжзлмюёшюхжшчы-кшйъжшёш…\n",
      "\n",
      "–юёшпюйзъилжыв\n"
     ]
    }
   ],
   "source": [
    "shuffled_text = ''\n",
    "with open(hero) as f:\n",
    "    for i in range(200):\n",
    "        f.readline()\n",
    "    for i in range(1500):\n",
    "        l = f.readline().lower()\n",
    "        for s in l:\n",
    "            if s in symbols:\n",
    "                shuffled_text += shuffler[s]\n",
    "            else:\n",
    "                shuffled_text += s\n",
    "print(shuffled_text[:500])\n",
    "with open(\"shuffled_text.txt\", mode=\"w\") as f:\n",
    "    f.write(shuffled_text)\n",
    "    f.flush()"
   ]
  },
  {
   "cell_type": "markdown",
   "id": "88d9adc0",
   "metadata": {},
   "source": [
    "### А теперь сделаем вид что не видели как выглядит shuffler"
   ]
  },
  {
   "cell_type": "code",
   "execution_count": 14,
   "id": "34db7705",
   "metadata": {},
   "outputs": [
    {
     "name": "stdout",
     "output_type": "stream",
     "text": [
      "юсшлёъжмызбкпирйвщьофнчаехгтэц удя\n"
     ]
    }
   ],
   "source": [
    "sh_freq = count_freq(\"shuffled_text.txt\")\n",
    "print(*sh_freq, sep='')"
   ]
  },
  {
   "cell_type": "code",
   "execution_count": 15,
   "id": "30c74349",
   "metadata": {},
   "outputs": [],
   "source": [
    "deshuffler = {i:j for (i,j) in zip(sh_freq.keys(), hero_freq.keys())}"
   ]
  },
  {
   "cell_type": "code",
   "execution_count": 16,
   "id": "f106af4a",
   "metadata": {},
   "outputs": [
    {
     "name": "stdout",
     "output_type": "stream",
     "text": [
      "\n",
      "– ну тек бто ж?\n",
      "\n",
      "– полмотрита, кек куритля.\n",
      "\n",
      "и в лемом даса, зуд-зоре курисель; по чокем аа посгеси сазкиа лтруйки очсеков, е не варшина сажесе барнея тубе, текея барнея, бто не тамном нача оне кегесель пятном.\n",
      "\n",
      "уж мы регсибеси побтовую лтенцию, кровси окружеюэих аа лексай, и парад неми маськеси приватныа озоньки, козде пехнус лырой, хосодный ватар, уэасьа гезудасо и пошас маский дождь. адве улпас я некинуть чурку, кек повесис лназ. я л чсезозованиам полмотрас не штечл-кепитене…\n",
      "\n",
      "– нем придатля гдаль нобаветь, – лкегес он л доледою, – в текую матась бараг зоры на параадашь. бто? чыси сь очвесы не кралтовой? – лпролис он игвогбике.\n"
     ]
    }
   ],
   "source": [
    "with open(\"shuffled_text.txt\") as f:\n",
    "    for line in f.readlines()[:10]:\n",
    "        for s in line:\n",
    "            if s in symbols:\n",
    "                print(deshuffler[s], end='')\n",
    "            else:\n",
    "                print(s, end='')"
   ]
  },
  {
   "cell_type": "code",
   "execution_count": 17,
   "id": "9a3575c0",
   "metadata": {},
   "outputs": [
    {
     "name": "stdout",
     "output_type": "stream",
     "text": [
      "По итогу получаем верных 23 символов\n"
     ]
    }
   ],
   "source": [
    "n = 0\n",
    "for i in range(33):\n",
    "    if deshuffler[shuffled[i]] == symbols[i]:\n",
    "        n += 1\n",
    "print(f\"По итогу получаем верных {n} символов\")"
   ]
  },
  {
   "cell_type": "markdown",
   "id": "740ad938",
   "metadata": {},
   "source": [
    "## Биграммы"
   ]
  },
  {
   "cell_type": "code",
   "execution_count": 18,
   "id": "e06b5b4e",
   "metadata": {},
   "outputs": [],
   "source": [
    "bigrams = [i+j for i in symbols for j in symbols]"
   ]
  },
  {
   "cell_type": "code",
   "execution_count": 19,
   "id": "98805a4c",
   "metadata": {},
   "outputs": [],
   "source": [
    "def count_freq2(fname):\n",
    "    freq = {}\n",
    "    \n",
    "    with open(fname,'r') as f:        \n",
    "        for i in bigrams: \n",
    "            freq[i] = 0\n",
    "\n",
    "        for i in range(5000):\n",
    "            try:\n",
    "                l = f.readline().lower()\n",
    "            except:\n",
    "                break\n",
    "            for j in range(0,len(l)):\n",
    "                bi = l[j:j+2]\n",
    "                if bi in bigrams:\n",
    "                    freq[bi] += 1\n",
    "\n",
    "    num = sum(freq.values())\n",
    "    for s in freq:\n",
    "        freq[s] /= num\n",
    "\n",
    "    return {k: v for k, v in sorted(freq.items(), key=lambda x: -x[1])}"
   ]
  },
  {
   "cell_type": "code",
   "execution_count": 20,
   "id": "10054b58",
   "metadata": {},
   "outputs": [],
   "source": [
    "hero_bi = count_freq2(\"hero_of_our_time.txt\")\n",
    "shuffled2 = bigrams.copy()\n",
    "random.shuffle(shuffled2)\n",
    "shuffler2 = {i:j for (i,j) in zip(bigrams, shuffled2)}"
   ]
  },
  {
   "cell_type": "code",
   "execution_count": 21,
   "id": "4b1a4975",
   "metadata": {},
   "outputs": [
    {
     "name": "stdout",
     "output_type": "stream",
     "text": [
      "\n",
      "– шслжпицуытка?\n",
      "\n",
      "– ызтльмщфдо, лвщажощфы я.\n",
      "\n",
      "лгеильичлзщрлн, шуд-вффпфтзз кцвь;леъчфвлвлзгцлеёышцэснцшфжьыьмёйпьулгщмнжюпв,ммоаюокоэфипыьлнгднжцунмифйеёмпн, эелвйеньёт и, едъчифлждлфшлзихбкэциффтсзкецвпгт тзвю.\n",
      "\n",
      "ацппёьфпйьвпкелгызед фвтикэеэзщё, як фэсэцякацймьдй гцикпилнй,ёхленмвэоавилгжфёрлвэслещфкотзсуэцвфчлжь, юпюлюоысу оцикоовы, шлвьющгбнюаанм, балъ рчйныээлъъчлгызшёюужфриъэкфрвпж. вэцзьбюелъъгоапиипчтпгяэиау,фтпиле фке кикихг.ъгикшонжвфвфко ёдлленэичщилъоаюочэжцс-лвюнэеиф…\n",
      "\n",
      "– ифлзпботаась\n"
     ]
    }
   ],
   "source": [
    "shuffled_text2 = ''\n",
    "with open(hero) as f:\n",
    "    for i in range(200):\n",
    "        f.readline()\n",
    "    for i in range(15000):\n",
    "        l = f.readline().lower()\n",
    "        for s_ in range(0,len(l),2):\n",
    "            s = l[s_:s_+2]\n",
    "            if s in bigrams:\n",
    "                shuffled_text2 += shuffler2[s]\n",
    "            else:\n",
    "                shuffled_text2 += s\n",
    "print(shuffled_text2[:500])\n",
    "with open(\"shuffled_text2.txt\", mode=\"w\") as f:\n",
    "    f.write(shuffled_text2)\n",
    "    f.flush()"
   ]
  },
  {
   "cell_type": "code",
   "execution_count": 22,
   "id": "bc0f79c2",
   "metadata": {},
   "outputs": [
    {
     "name": "stdout",
     "output_type": "stream",
     "text": [
      "\n",
      "–  эер брея аю?\n",
      "\n",
      "– поиера уаз, кос з  удвя.\n",
      "\n",
      "и ниачдотиегем, еод- дка ибжв  еь; со тркотиму слилоовняылнн п ксьцми мносалв,уп на велщже пемекосретьтонаиюки, риконаим юил, моо тоерадсттинекр ото иасно еь ююеюм .\n",
      "\n",
      "уш мавкаггсинои помол мп вриьжуъ, чул ов очуушоодттуму в бемй,го стьзн ннуи льмикоов с увееюшл о д хнн, алшеа шмкчлю внрн , еелаицзде  ять, мбважыорешатвао и пожденльш пл тыхяд. знте гояваск н бжебаь ышпту, и б сл нов  внег.ск впрос д двевоад сзадовыва на явётс-коусрито…\n",
      "\n",
      "– тотиолью ядаорегед набчь рь, – вколоенел в тзасабс, – нириз жильазмиретьичаметавне стьмуегьт. моо?прчти ми омэноавто иак кл н ? – ояй ахенелгоуяецшако.\n"
     ]
    }
   ],
   "source": [
    "sh_bi = count_freq2(\"shuffled_text2.txt\")\n",
    "deshuffler2 = {i:j for (i,j) in zip(sh_bi.keys(), hero_bi.keys())}\n",
    "with open(\"shuffled_text2.txt\") as f:\n",
    "    for line in f.readlines()[:10]:\n",
    "        for s_ in range(0,len(line),2):\n",
    "            s = line[s_:s_+2]\n",
    "            if s in bigrams:\n",
    "                print(deshuffler2[s], end='')\n",
    "            else:\n",
    "                print(s, end='')"
   ]
  },
  {
   "cell_type": "code",
   "execution_count": 23,
   "id": "b80344df",
   "metadata": {},
   "outputs": [
    {
     "name": "stdout",
     "output_type": "stream",
     "text": [
      "По итогу получаем верных 10/1089 символов\n"
     ]
    }
   ],
   "source": [
    "n = 0\n",
    "for i in range(33**2):\n",
    "    if deshuffler2[shuffled2[i]] == bigrams[i]:\n",
    "        n += 1\n",
    "print(f\"По итогу получаем верных {n}/{33**2} символов\")"
   ]
  },
  {
   "cell_type": "code",
   "execution_count": null,
   "id": "86fec135",
   "metadata": {},
   "outputs": [],
   "source": []
  },
  {
   "cell_type": "markdown",
   "id": "38fec602",
   "metadata": {},
   "source": [
    "## MCMC \\#1"
   ]
  },
  {
   "cell_type": "code",
   "execution_count": 27,
   "id": "a7fec68f",
   "metadata": {},
   "outputs": [],
   "source": [
    "def choise(l, probs):\n",
    "    return np.random.choice(np.arange(l+1), p=probs)\n",
    "\n",
    "def dist(ar, probs, num=0):\n",
    "    ar = np.array(ar)\n",
    "    transpositions = [np.where(ar == i)[0][0] for i in np.random.choice(ar, num*2, False, p=probs)]\n",
    "    transpositions = np.resize(transpositions,(num,2))\n",
    "    return transpositions\n",
    "\n",
    "def dist2prob(p,l,ar,ar_probs):\n",
    "    probs1 = (1/p-1)*p**(np.arange(l)+1)\n",
    "    probs1 = np.append(probs1,1-np.sum(probs1))\n",
    "    \n",
    "    \n",
    "    q = sum([1/i for i in ar_probs if i != 0])\n",
    "    probs2 = [(1/i)/q for i in ar_probs if i != 0]\n",
    "    probs2 += [0]*ar_probs.count(0)\n",
    "    \n",
    "    return probs1,probs2"
   ]
  },
  {
   "cell_type": "code",
   "execution_count": 30,
   "id": "9bd8a6c1",
   "metadata": {},
   "outputs": [],
   "source": [
    "def mcmc(orig, orig_probs, num_sampl, p=.5, l=10, step=100, walk=20):\n",
    "    orig = np.array(orig)\n",
    "    c = np.arange(len(orig))\n",
    "    probs1,probs2 = dist2prob(p,l,orig,orig_probs)\n",
    "    res = []\n",
    "    \n",
    "    for i in range(num_sampl+walk):\n",
    "        for j in range(step):\n",
    "        \n",
    "            transpose = choise(l,probs1)\n",
    "            distance1 = len([i for i in range(len(c)) if c[i] != i])\n",
    "            c_ = c\n",
    "            \n",
    "            if transpose == 0:\n",
    "                continue\n",
    "                \n",
    "            where = 1\n",
    "            transpositions = dist(orig, probs2, transpose)\n",
    "            for t in transpositions:\n",
    "                c_[t] = c_[[t[1],t[0]]]\n",
    "                where *= 2*(1-orig_probs[t[0]])*(1-orig_probs[t[0]])\n",
    "                \n",
    "            distance2 = len([i for i in range(len(c)) if c_[i] != i])\n",
    "            \n",
    "            how_many = ((1/p-1)*p**(distance2+1))/((1/p-1)*p**(distance1+1))\n",
    "            a = how_many*where\n",
    "            x = np.random.random()\n",
    "            if x < a:\n",
    "                c = c_\n",
    "                \n",
    "        if i >= walk:\n",
    "            res += [orig[c]]\n",
    "    \n",
    "    return res"
   ]
  },
  {
   "cell_type": "code",
   "execution_count": 61,
   "id": "7bf99458",
   "metadata": {},
   "outputs": [],
   "source": [
    "k = 0\n",
    "for l in open(\"shuffled_text2.txt\").readlines()[80:90]:\n",
    "    for i in range(0,len(l),2):\n",
    "        k += 1\n",
    "\n",
    "mcmc_perms = mcmc(list(hero_bi.keys()),list(hero_bi.values()),k,1/2,5,100,10)"
   ]
  },
  {
   "cell_type": "code",
   "execution_count": 62,
   "id": "66abbe90",
   "metadata": {},
   "outputs": [
    {
     "name": "stdout",
     "output_type": "stream",
     "text": [
      "481\n",
      "['о ' ' н' ' п' ... 'ёю' 'ёя' 'ёё']\n"
     ]
    }
   ],
   "source": [
    "print(len(mcmc_perms))\n",
    "print(mcmc_perms[0])"
   ]
  },
  {
   "cell_type": "code",
   "execution_count": 67,
   "id": "7673f08c",
   "metadata": {},
   "outputs": [],
   "source": [
    "ln1 = ''\n",
    "for l in open(\"shuffled_text2.txt\").readlines()[80:90]:\n",
    "    for i in range(0,len(l),2):\n",
    "        if l[i:i+2].lower() in bigrams:\n",
    "            ln1 += deshuffler2[l[i:i+2].lower()]\n",
    "        else: ln1 += l[i:i+2]\n",
    "    if ln1[-1] != \"\\n\":\n",
    "        ln1 += '\\n'\n",
    "            \n",
    "ln2 = ''\n",
    "for l in open(\"hero_of_our_time.txt\").readlines()[280:290]:\n",
    "    k1 = 0\n",
    "    for i in range(0,len(l),2):\n",
    "        if l[i:i+2].lower() in bigrams:\n",
    "            ln2 += list(hero_bi.keys())[list(mcmc_perms[k1]).index(l[i:i+2].lower())]\n",
    "            k1 += 1\n",
    "        else: \n",
    "            ln2 += l[i:i+2]\n",
    "    if ln2[-1] != \"\\n\":\n",
    "        ln2 += '\\n'"
   ]
  },
  {
   "cell_type": "code",
   "execution_count": 68,
   "id": "4724c420",
   "metadata": {},
   "outputs": [
    {
     "name": "stdout",
     "output_type": "stream",
     "text": [
      "Простая замена биграммов:\n",
      "\n",
      "хоуго  кноо ниачвже,госке вува на отвпмщ оочсусенья. набь ушняыхв  еь тоаметы,гоерянны нюжженопрй пи ч со мбвахжм.\n",
      "\n",
      "ле пгтхо алаедорлсть э ч сод нлсом, ше п кьсов нвьи лаогпи, поиераак ч, ом чняи инвотуалжа, и олсем  о кетыхст кь воалшеа не мвиб т: г мронасопрчта лаогяд восрсил, и уш н подже иётиспинехъто нму грымист сы бужртел, с у дте утея: «урнтершц, имс урнт!»[4]\n",
      "\n",
      "олмнтхооеде оймиорётета и зъсьыдднвуин длаач; оджеамлизаскерракиу ыщтол:сяя прчт сл ома асну р, шщьктожд д жецъмто; злвлн амл етв тасу пи слжд. «ореад овоербаерлиз ши? – похо аеня. – гчкне о мдроновняйнсар ?»е ра с уокеннаинлотркаго вриенолевьннтте чда,  кисилед н полузишсл ч ни одст д влате. жеы итзгян сомрогоамл етамлизал , т емринах  в бов, лошнбянои ежтрийеюзд тбу мронакабил ет.\n",
      "\n",
      "– днлстонаиназгкняйнсаь! –амл етв упло ат. –чедни анскпрчт жецъмькниойльгогольенриышькнивыеври имнчт, я  охкноправполаме эора иддр д вкоз то, ковмси!\n",
      "\n",
      "«а! ковмси!» – содянноскгое оям военалмикеео.\n",
      "\n",
      "\n",
      "Замена биграммов с применением MCMC:\n",
      "\n",
      "душно стало в сакле,не я вышел на вояясц ощиежитумя. ночь уж лпсилехь на горы,не тгёан начинал бродить по оюелядм.\n",
      "\n",
      "мне вздумалось завернуть под навес, где стояли наши нщрпди, поояотреть, есть ли у них гёфы, и притвт осторпяность ниянгда рщ мжуает: у мсдя ук была рвбхпи слаьсзб, и иж не один кмщардицкэкна нэхфсми йно погафямвал, приоцваривая: «йцпы тйр, челпдппы!»[4]\n",
      "\n",
      "пробираюсь вдоль забора и гсруешслышу гололш; один голос я тотчас узнал: это был повеса азамат, блн нажаго хочллна; другфл говорил реже и тижа. «О чем они тут толкуш ? – подюмал я. –чрж цк о моей бчсёошадху?» вот прибдл я у заржране стал прз хупываться, старфесь не проюустить ни одноыщ сш ва. иногда шнц пес уне говор голсыов, выпьйря зр смь ф, залёушали яшрмёзохпн дёз м уя раищовор.\n",
      "\n",
      "– славная у тебя лошадь! – говорил азамат. – если бы я был хпьсмн в домененемел тацвн в триста кбшыл, то ойкал бы повцвину за твоего скакуна, касъич!\n",
      "\n",
      "«А! казбич!» – подумал яне вспомнил кольчугу.\n",
      "\n"
     ]
    }
   ],
   "source": [
    "print('Простая замена биграммов:')\n",
    "print(ln1)\n",
    "print('\\nЗамена биграммов с применением MCMC:')\n",
    "print(ln2)"
   ]
  },
  {
   "cell_type": "markdown",
   "id": "406cf398",
   "metadata": {},
   "source": [
    "## MCMC \\#2"
   ]
  },
  {
   "cell_type": "code",
   "execution_count": 63,
   "id": "4e550b18",
   "metadata": {},
   "outputs": [],
   "source": [
    "def loss(decrypter):\n",
    "    s = 0\n",
    "    for i in decrypter:\n",
    "        s += abs(hero_bi[decrypter[i]] - sh_bi[i])/(1-sh_bi[i])**0.5/(1-hero_bi[decrypter[i]])**0.5\n",
    "    return s\n",
    "\n",
    "dec = {i:i for i in bigrams}\n",
    "l = 1e100"
   ]
  },
  {
   "cell_type": "code",
   "execution_count": 77,
   "id": "beace81b",
   "metadata": {},
   "outputs": [
    {
     "name": "stdout",
     "output_type": "stream",
     "text": [
      "0.4515038826990769\n",
      "0.4510358854741859\n",
      "0.4499046737446285\n",
      "0.4487974934239265\n",
      "0.4481794288924671\n",
      "0.4477220165128624\n",
      "0.4470846703760487\n",
      "0.4470536377452673\n",
      "0.44676203822926475\n",
      "0.4467077055997027\n"
     ]
    }
   ],
   "source": [
    "\n",
    "for iteration in range(50000):\n",
    "    choised = random.choices(bigrams, k=10)\n",
    "    dec1 = dec.copy()\n",
    "    for i in range(0,10,2):\n",
    "        dec1[choised[i]], dec1[choised[i+1]] = dec[choised[i+1]], dec[choised[i]]\n",
    "    \n",
    "    loss_ = loss(dec1)\n",
    "    if loss_ < l:\n",
    "        l = loss_\n",
    "        dec = dec1.copy()\n",
    "        #print(i,j)\n",
    "        #print(l, end='\\t')\n",
    "    if iteration%5000 == 0:\n",
    "        print(l)"
   ]
  },
  {
   "cell_type": "code",
   "execution_count": 78,
   "id": "e128f9ff",
   "metadata": {},
   "outputs": [
    {
     "name": "stdout",
     "output_type": "stream",
     "text": [
      "\n",
      "– уж тчт чни ж?\n",
      "\n",
      "– воьюосслой, онк ебслояя.\n",
      "\n",
      "и в пуеем ылнн, ндд-веов кжчемчаь; по ихонм са пзаакпр лдишее енмецёи иеаторв, а на риямвые ннурат чодаля июду, лооня ардкят, сео ал тудолм отчн оал ксьличаь дюнцам.\n",
      "\n",
      "ьс мы овиивллии восемонщ слояорз, ошмопр оошьсишршх са счтннй, и подид нзни окбеонпр пслринцуп овешнше, оруна евтлсн счгег, тсесхоку вбыод, цнтелу зьюбутео и воажл окющык дыевт. идки умнте я нчтвыыхь бцтцу, кчт пмолием сотг. я с батвеверисяуд петееботе на сюяюс-онжчлоал…\n",
      "\n",
      "– алм таагбыми зылму начлжомь, – сонакл ти с детекыт, – в лоебю окойбе чодял гроы от подсаылшк. сео? бочи бе огщлиы ал кобенмоег? – мндоучл ти иизыбигон.\n"
     ]
    }
   ],
   "source": [
    "with open(\"shuffled_text2.txt\") as f:\n",
    "    for line in f.readlines()[:10]:\n",
    "        for s_ in range(0,len(line),2):\n",
    "            s = line[s_:s_+2]\n",
    "            if s in bigrams:\n",
    "                print(dec[s], end='')\n",
    "            else:\n",
    "                print(s, end='')"
   ]
  },
  {
   "cell_type": "code",
   "execution_count": null,
   "id": "9fcefc4c",
   "metadata": {},
   "outputs": [],
   "source": []
  },
  {
   "cell_type": "markdown",
   "id": "4b22b5d7",
   "metadata": {},
   "source": [
    "## Гадаем загадку"
   ]
  },
  {
   "cell_type": "code",
   "execution_count": 71,
   "id": "625ce586",
   "metadata": {},
   "outputs": [],
   "source": [
    "s = \"დჳჵჂႨშႼႨშჂხჂჲდႨსႹႭჾႣჵისႼჰႨჂჵჂႨႲႹႧჲჂႨსႹႭჾႣჵისႼჰႨჲდႩჳჲႨჇႨႠჲႹქႹႨჳႹႹჱჶდსჂႽႨႩႹჲႹႭႼჰႨჵდქႩႹႨႲႭႹႧჂჲႣჲიႨჳႩႹႭდდႨშჳდქႹႨშႼႨშჳდႨჳხდჵႣჵჂႨႲႭႣშჂჵისႹႨჂႨႲႹჵჇႧჂჲდႨჾႣႩჳჂჾႣჵისႼჰႨჱႣჵჵႨეႣႨႲႹჳჵდხსდდႨႧდჲშდႭჲႹდႨეႣხႣსჂდႨႩჇႭჳႣႨႾႹჲႽႨႩႹსდႧსႹႨႽႨსჂႧდქႹႨსდႨႹჱდჶႣნ\""
   ]
  },
  {
   "cell_type": "code",
   "execution_count": 102,
   "id": "c5e6a583",
   "metadata": {},
   "outputs": [
    {
     "name": "stdout",
     "output_type": "stream",
     "text": [
      "28  ႠႾნჶეჇჱႽხჾჰქიႲႼႧშႩႭჳჲჵსႣჂდႹႨ\n"
     ]
    }
   ],
   "source": [
    "s_freq = {}\n",
    "for i in s:\n",
    "    if i not in s_freq:\n",
    "        s_freq[i] = 1\n",
    "    else:\n",
    "        s_freq[i] += 1\n",
    "s_freq = {k: v for k, v in sorted(s_freq.items(), key=lambda x: x[1])}\n",
    "print(len(s_freq.keys()),\"  \", *s_freq, sep='')"
   ]
  },
  {
   "cell_type": "code",
   "execution_count": 103,
   "id": "a5ad6d97",
   "metadata": {},
   "outputs": [
    {
     "name": "stdout",
     "output_type": "stream",
     "text": [
      "128 დჳ Ⴢხ ხჂ Ⴇჲ ჲჂ Ⴈჲ დႩ ჳჲ ჲႨ ႨჇ ჇႨ ႨႠ Ⴀჲ Ⴙქ ჳႹ ႹႹ ჱჶ ჶდ დს ჂႽ ႭႼ Ⴈჵ ქႩ ႭႹ ჲႣ Ⴃჲ ჲი იႨ ჳႩ Ⴍდ ჳხ ხდ დჵ ჵႣ ႭႣ Ⴃშ Ⴙჵ ჵჇ ჇႧ Ⴈჾ ႣႩ ჳჂ Ⴢჾ Ⴈჱ ჱႣ ჵჵ ჵႨ Ⴙჳ დხ ხს ႨႧ დჲ ჲშ შდ დႭ Ⴍჲ Ⴙდ Ⴃხ ხႣ Ⴃს Ⴢდ ႩჇ ჇႭ Ⴍჳ ჳႣ ႨႾ ႾႹ ჲႽ Ⴙს დႧ Ⴇს ႨႽ ჂႧ ႨႹ ჱდ დჶ ჶႣ Ⴃნ ნ ჳჵ შႼ ႼႨ შჂ Ⴍჾ ႨჂ Ⴢჵ ႹႧ Ⴉჳ Ⴙჱ Ⴙჲ ჵდ ႲႭ ႧჂ დდ შჳ ჳდ Ⴈე ეႣ ႣႨ Ⴇდ ჵჂ Ⴢჲ ჲდ სႼ ႲႹ ჲႹ ქႹ Ⴈჳ სჂ ႽႨ ႨႩ დქ სდ Ⴈს სႹ ႹႭ ჾႣ ჵი ის Ⴜჰ ჰႨ ႩႹ ჂႨ Ⴈშ Ⴃჵ ႨႲ ႹႨ დႨ\n"
     ]
    }
   ],
   "source": [
    "s_freq2 = {}\n",
    "for i_ in range(len(s)):\n",
    "    i = s[i_:i_+2]\n",
    "    if i not in s_freq2:\n",
    "        s_freq2[i] = 1\n",
    "    else:\n",
    "        s_freq2[i] += 1\n",
    "s_freq2 = {k: v for k, v in sorted(s_freq2.items(), key=lambda x: x[1])}\n",
    "print(len(s_freq2.keys()), *s_freq2)"
   ]
  },
  {
   "cell_type": "code",
   "execution_count": 113,
   "id": "64480cde",
   "metadata": {},
   "outputs": [],
   "source": [
    "s_freq2_perms = mcmc(list(s_freq2.keys()), list(s_freq2.values()), len(s)//2, .5, 5, 100, 5)"
   ]
  },
  {
   "cell_type": "code",
   "execution_count": 114,
   "id": "385f9463",
   "metadata": {},
   "outputs": [],
   "source": [
    "m1 = ''\n",
    "for i in range(0,len(s),2):\n",
    "    m1 += list(hero_bi.keys())[list(s_freq2.keys()).index(s[i:i+2])]\n",
    "m1 += '\\n'\n",
    "            \n",
    "m2 = ''\n",
    "k1 = 0\n",
    "for i in range(0,len(s),2):\n",
    "    m2 += list(hero_bi.keys())[list(s_freq2_perms[k1]).index(s[i:i+2])]\n",
    "    k1 += 1\n",
    "m2 += '\\n'"
   ]
  },
  {
   "cell_type": "code",
   "execution_count": 115,
   "id": "9971bd61",
   "metadata": {},
   "outputs": [
    {
     "name": "stdout",
     "output_type": "stream",
     "text": [
      "Простая замена биграммов:\n",
      "о амтвт ле пегнумимнс чавсинеджее едма рокх вы са и на ослвиня мпо иноимльмивыкоависю  дбыь раняисл оеруавадествсьняотпрамю волес маойю тьй аноемны лаокх вылоокос лю елчетанывеетваод яемри утеим еаздальтрисн скадтркисевинуоетидеас\n",
      "\n",
      "\n",
      "Замена биграммов с применением MCMC:\n",
      "нает пкипоазобав вкоатт окпово звет им ндотиамнуин иинад иалкаче норатинос стоны еелов груоноли н у неся гед п тт наняи  яамотмиобныа  гпоаду руобмиле сноилватевс р я и счетотько здат оеисавеги ел якаварисьчаолнининытами з дй каол\n",
      "\n"
     ]
    }
   ],
   "source": [
    "print('Простая замена биграммов:')\n",
    "print(m1)\n",
    "print('\\nЗамена биграммов с применением MCMC:')\n",
    "print(m2)"
   ]
  },
  {
   "cell_type": "code",
   "execution_count": null,
   "id": "046a2179",
   "metadata": {},
   "outputs": [],
   "source": []
  }
 ],
 "metadata": {
  "kernelspec": {
   "display_name": "Python 3 (ipykernel)",
   "language": "python",
   "name": "python3"
  },
  "language_info": {
   "codemirror_mode": {
    "name": "ipython",
    "version": 3
   },
   "file_extension": ".py",
   "mimetype": "text/x-python",
   "name": "python",
   "nbconvert_exporter": "python",
   "pygments_lexer": "ipython3",
   "version": "3.10.4"
  }
 },
 "nbformat": 4,
 "nbformat_minor": 5
}
