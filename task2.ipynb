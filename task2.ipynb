{
 "cells": [
  {
   "cell_type": "markdown",
   "id": "f3ef91af",
   "metadata": {},
   "source": [
    "# Метод Шерлока"
   ]
  },
  {
   "cell_type": "code",
   "execution_count": 76,
   "id": "26d7e7be",
   "metadata": {},
   "outputs": [],
   "source": [
    "import pandas as pd\n",
    "from matplotlib import pyplot as plt\n",
    "import numpy as np\n",
    "import random\n",
    "from sklearn.preprocessing import normalize\n",
    "from sklearn import linear_model\n",
    "from sklearn.utils._testing import ignore_warnings\n",
    "from sklearn.exceptions import ConvergenceWarning\n"
   ]
  },
  {
   "cell_type": "code",
   "execution_count": 82,
   "id": "10cc516b",
   "metadata": {},
   "outputs": [
    {
     "name": "stdout",
     "output_type": "stream",
     "text": [
      "абвгдежзийклмнопрстуфхцчшщъыьэюя ё\n",
      "ъяючблцкмщь ндиёаыптушйсгхэфзревож\n"
     ]
    }
   ],
   "source": [
    "symbols = [chr(i+ord(\"а\")) for i in range(32)] + [\" \", \"ё\"]\n",
    "print(*symbols, sep='')\n",
    "shuffled = symbols.copy()\n",
    "random.shuffle(shuffled)\n",
    "print(*shuffled, sep='')"
   ]
  },
  {
   "cell_type": "code",
   "execution_count": 22,
   "id": "c661e5c7",
   "metadata": {},
   "outputs": [],
   "source": [
    "def count_freq(fname):\n",
    "    with open(fname,'r') as f:\n",
    "        freq = {}\n",
    "        for i in symbols: \n",
    "            freq[i] = 0\n",
    "\n",
    "        for i in range(5000):\n",
    "            try:\n",
    "                l = f.readline().lower()\n",
    "            except:\n",
    "                break\n",
    "            for s in symbols:\n",
    "                freq[s] += l.count(s)\n",
    "\n",
    "    num = sum(freq.values())\n",
    "    for s in freq:\n",
    "        freq[s] /= num\n",
    "        \n",
    "    return {k: v for k, v in sorted(freq.items(), key=lambda x: -x[1])}\n",
    "    #return freq"
   ]
  },
  {
   "cell_type": "code",
   "execution_count": 83,
   "id": "c8312121",
   "metadata": {},
   "outputs": [
    {
     "name": "stdout",
     "output_type": "stream",
     "text": [
      " оеанитслрвкмдупяьыгзбчйжшхюцэщфъё\n"
     ]
    }
   ],
   "source": [
    "hero = \"hero_of_our_time.txt\"\n",
    "hero_freq = count_freq(hero)\n",
    "print(*hero_freq, sep='')"
   ]
  },
  {
   "cell_type": "code",
   "execution_count": 87,
   "id": "4a68d895",
   "metadata": {},
   "outputs": [],
   "source": [
    "shuffler = {i:j for (i,j) in zip(symbols, shuffled)}"
   ]
  },
  {
   "cell_type": "code",
   "execution_count": 118,
   "id": "90da4bc9",
   "metadata": {},
   "outputs": [
    {
     "name": "stdout",
     "output_type": "stream",
     "text": [
      "\n",
      "–одтопъьоспиоц?\n",
      "\n",
      "–оёиынипампл,оьъьоьтампыв.\n",
      "\n",
      "моюоыънинобл л,очтб-чиаъоьтам ъыз;оёиояиьъноллоёи къ мо лчьмлоыпатщьмоия ъьию,оъодъоюлагмдло лцъ ъосладъвоптсъ,опъьъвосладъв,оспиодъоплндинодлялоидъоьъкъ ъызоёвпдин.\n",
      "\n",
      "тцонфоаък мсъ моёиспиютеоыпъдйме,оьаию моиьатцъехмшоллоыъь лщ,омоёлалбодънмонл зьъ моёамюлпдфлоичидзьм,оьичбъоёъшдт оыфаищ,оши ибдфщоюлпла,отхл злокъчтбл иомоёигл онл ьмщобицбз.олбюъотыёл оводъьмдтпзоятаьт,оьъьоёиюъ м оыдлч.овоыоя ъчичиюлдмлноёиынипал одъогпъяы-ьъёмпъдъ…\n",
      "\n",
      "–одъноёамблпыв\n"
     ]
    }
   ],
   "source": [
    "shuffled_text = ''\n",
    "with open(hero) as f:\n",
    "    for i in range(200):\n",
    "        f.readline()\n",
    "    for i in range(1500):\n",
    "        l = f.readline().lower()\n",
    "        for s in l:\n",
    "            if s in symbols:\n",
    "                shuffled_text += shuffler[s]\n",
    "            else:\n",
    "                shuffled_text += s\n",
    "print(shuffled_text[:500])\n",
    "with open(\"shuffled_text.txt\", mode=\"w\") as f:\n",
    "    f.write(shuffled_text)\n",
    "    f.flush()"
   ]
  },
  {
   "cell_type": "markdown",
   "id": "88d9adc0",
   "metadata": {},
   "source": [
    "### А теперь сделаем вид что не видели как выглядит shuffler"
   ]
  },
  {
   "cell_type": "code",
   "execution_count": 119,
   "id": "34db7705",
   "metadata": {},
   "outputs": [
    {
     "name": "stdout",
     "output_type": "stream",
     "text": [
      "оиълдмп ыаюьнбтёвзфкчсящцгшейхруэж\n"
     ]
    }
   ],
   "source": [
    "sh_freq = count_freq(\"shuffled_text.txt\")\n",
    "print(*sh_freq, sep='')"
   ]
  },
  {
   "cell_type": "code",
   "execution_count": 120,
   "id": "30c74349",
   "metadata": {},
   "outputs": [],
   "source": [
    "deshuffler = {i:j for (i,j) in zip(sh_freq.keys(), hero_freq.keys())}"
   ]
  },
  {
   "cell_type": "code",
   "execution_count": 121,
   "id": "f106af4a",
   "metadata": {},
   "outputs": [
    {
     "name": "stdout",
     "output_type": "stream",
     "text": [
      "\n",
      "– ну тек бто ж?\n",
      "\n",
      "– полмотрита, кек куритля.\n",
      "\n",
      "и в лемом даса, зуд-зоре курисель; по чокем аа посгеси сазкиа лтруйки очсеков, е не варшина сажесе барнея тубе, текея барнея, бто не тамном нача оне кегесель пятном.\n",
      "\n",
      "уж мы регсибеси побтовую лтенцию, кровси окружеюэих аа лексай, и парад неми маськеси приватныа озоньки, козде пехнус лырой, хосодный ватар, уэасьа гезудасо и пошас маский дождь. адве улпас я некинуть чурку, кек повесис лназ. я л чсезозованиам полмотрас не штечл-кепитене…\n",
      "\n",
      "– нем придатля гдаль нобаветь, – лкегес он л доледою, – в текую матась бараг зоры на параадашь. бто? чыси сь очвесы не кралтовой? – лпролис он игвогбике.\n"
     ]
    }
   ],
   "source": [
    "with open(\"shuffled_text.txt\") as f:\n",
    "    for line in f.readlines()[:10]:\n",
    "        for s in line:\n",
    "            if s in symbols:\n",
    "                print(deshuffler[s], end='')\n",
    "            else:\n",
    "                print(s, end='')"
   ]
  },
  {
   "cell_type": "code",
   "execution_count": 122,
   "id": "9a3575c0",
   "metadata": {},
   "outputs": [
    {
     "name": "stdout",
     "output_type": "stream",
     "text": [
      "По итогу получаем верных 24 символов\n"
     ]
    }
   ],
   "source": [
    "n = 0\n",
    "for i in range(34):\n",
    "    if deshuffler[shuffled[i]] == symbols[i]:\n",
    "        n += 1\n",
    "print(f\"По итогу получаем верных {n} символов\")"
   ]
  },
  {
   "cell_type": "markdown",
   "id": "740ad938",
   "metadata": {},
   "source": [
    "## Биграммы"
   ]
  },
  {
   "cell_type": "code",
   "execution_count": 110,
   "id": "e06b5b4e",
   "metadata": {},
   "outputs": [],
   "source": [
    "bigrams = [i+j for i in symbols for j in symbols]"
   ]
  },
  {
   "cell_type": "code",
   "execution_count": 111,
   "id": "98805a4c",
   "metadata": {},
   "outputs": [],
   "source": [
    "def count_freq2(fname):\n",
    "    freq = {}\n",
    "    \n",
    "    with open(fname,'r') as f:        \n",
    "        for i in bigrams: \n",
    "            freq[i] = 0\n",
    "\n",
    "        for i in range(5000):\n",
    "            try:\n",
    "                l = f.readline().lower()\n",
    "            except:\n",
    "                break\n",
    "            for i in range(0,len(l),2):\n",
    "                if l[i:i+2] in bigrams:\n",
    "                    freq[l[i:i+2]] += 1\n",
    "\n",
    "    num = sum(freq.values())\n",
    "    for s in freq:\n",
    "        freq[s] /= num\n",
    "\n",
    "    return {k: v for k, v in sorted(freq.items(), key=lambda x: -x[1])}"
   ]
  },
  {
   "cell_type": "code",
   "execution_count": 127,
   "id": "10054b58",
   "metadata": {},
   "outputs": [],
   "source": [
    "hero_bi = count_freq2(\"hero_of_our_time.txt\")\n",
    "shuffled2 = bigrams.copy()\n",
    "random.shuffle(shuffled2)\n",
    "shuffler2 = {i:j for (i,j) in zip(bigrams, shuffled2)}"
   ]
  },
  {
   "cell_type": "code",
   "execution_count": 150,
   "id": "4b1a4975",
   "metadata": {},
   "outputs": [
    {
     "name": "stdout",
     "output_type": "stream",
     "text": [
      "\n",
      "– ёлчечйяхиюпр?\n",
      "\n",
      "– лкйбюупэжю, ючхкъяпэтхя.\n",
      "\n",
      "вщрлпцциаыктзь, плд- оуидмизшъпжь;уюнткоючаыдную итмчшьидибозпыхо элвщльюэбщв,оымё цнумгтазпзьфвюэяхрюэжьысппс, эюючьыфшцпры, пбнтэжчеъечиаыыбшшакэждмгиеъпжуйииячмц.\n",
      "\n",
      "вящаюьуищёегеъвщлкпбщсщзпйэюэпкр, бющсчшакбювяопьрбчднпйчйзьй,алуюрювймёаавщьгаэюччшуюпэнуячщйак очхбо, бщац ццх фцкпйтукг, ууцргтддчплхрю, ьшнчхжэоянт нчнтвщлкгрбуьгэдллхйзчыш. вйяыъыащнчкымёчйтасжуй нёйу,дмчйующсеъшъпйыбг.кыпйъшюэ о онущюъеуюйщци унчмё цушрдс-ючщьэюэж…\n",
      "\n",
      "– эжаыяёйклхчё\n"
     ]
    }
   ],
   "source": [
    "shuffled_text2 = ''\n",
    "with open(hero) as f:\n",
    "    for i in range(200):\n",
    "        f.readline()\n",
    "    for i in range(15000):\n",
    "        l = f.readline().lower()\n",
    "        for s_ in range(0,len(l),2):\n",
    "            s = l[s_:s_+2]\n",
    "            if s in bigrams:\n",
    "                shuffled_text2 += shuffler2[s]\n",
    "            else:\n",
    "                shuffled_text2 += s\n",
    "print(shuffled_text2[:500])\n",
    "with open(\"shuffled_text2.txt\", mode=\"w\") as f:\n",
    "    f.write(shuffled_text2)\n",
    "    f.flush()"
   ]
  },
  {
   "cell_type": "code",
   "execution_count": 151,
   "id": "bc0f79c2",
   "metadata": {},
   "outputs": [
    {
     "name": "stdout",
     "output_type": "stream",
     "text": [
      "\n",
      "– ну тод что ж?\n",
      "\n",
      "– поешотрите, калерырится.\n",
      "\n",
      "и в самом деин, айд-гони курилась; по бокам ок ползалиобчамне стсьдши сеонков, а на вехнк е инжаон черная люже, такая чежниз, что на тем мм неие она каз иась ржцеом.\n",
      "\n",
      "улноы низезн ии почтлооп ставялч, дулоли одуулеккледок содинй,ал перх  нсли у тикали привецееб ого шмн, когла д уйгр сыбой, хоелднлу ветер, ырлавш зоидилао и поиврау ьеий дожвн. х ва ясила у нодк уть ьсрту, код пло иил снег. у с бонгоговел ем посмотрла на цыщис-каептана…\n",
      "\n",
      "– нам праеет р зде л нкупиать, – сказараов с досисдв, – в тарыю у тети чергд горы не перокдеиб. что? были ти опь иы на какстлоой? – сироспраовалгиугчика.\n"
     ]
    }
   ],
   "source": [
    "sh_bi = count_freq2(\"shuffled_text2.txt\")\n",
    "deshuffler2 = {i:j for (i,j) in zip(sh_bi.keys(), hero_bi.keys())}\n",
    "with open(\"shuffled_text2.txt\") as f:\n",
    "    for line in f.readlines()[:10]:\n",
    "        for s_ in range(0,len(line),2):\n",
    "            s = line[s_:s_+2]\n",
    "            if s in bigrams:\n",
    "                print(deshuffler2[s], end='')\n",
    "            else:\n",
    "                print(s, end='')"
   ]
  },
  {
   "cell_type": "code",
   "execution_count": 153,
   "id": "b80344df",
   "metadata": {},
   "outputs": [
    {
     "name": "stdout",
     "output_type": "stream",
     "text": [
      "По итогу получаем верных 132/1156 символов\n"
     ]
    }
   ],
   "source": [
    "n = 0\n",
    "for i in range(34**2):\n",
    "    if deshuffler2[shuffled2[i]] == bigrams[i]:\n",
    "        n += 1\n",
    "print(f\"По итогу получаем верных {n}/{34**2} символов\")"
   ]
  },
  {
   "cell_type": "code",
   "execution_count": null,
   "id": "db0b60c3",
   "metadata": {},
   "outputs": [],
   "source": []
  },
  {
   "cell_type": "code",
   "execution_count": null,
   "id": "4e550b18",
   "metadata": {},
   "outputs": [],
   "source": []
  },
  {
   "cell_type": "code",
   "execution_count": null,
   "id": "beace81b",
   "metadata": {},
   "outputs": [],
   "source": []
  },
  {
   "cell_type": "code",
   "execution_count": null,
   "id": "e128f9ff",
   "metadata": {},
   "outputs": [],
   "source": []
  },
  {
   "cell_type": "code",
   "execution_count": null,
   "id": "082240ed",
   "metadata": {},
   "outputs": [],
   "source": []
  },
  {
   "cell_type": "code",
   "execution_count": null,
   "id": "9fcefc4c",
   "metadata": {},
   "outputs": [],
   "source": []
  },
  {
   "cell_type": "markdown",
   "id": "4b22b5d7",
   "metadata": {},
   "source": [
    "## Гадаем загадку"
   ]
  },
  {
   "cell_type": "code",
   "execution_count": 2,
   "id": "625ce586",
   "metadata": {},
   "outputs": [],
   "source": [
    "s = \"დჳჵჂႨშႼႨშჂხჂჲდႨსႹႭჾႣჵისႼჰႨჂჵჂႨႲႹႧჲჂႨსႹႭჾႣჵისႼჰႨჲდႩჳჲႨჇႨႠჲႹქႹႨჳႹႹჱჶდსჂႽႨႩႹჲႹႭႼჰႨჵდქႩႹႨႲႭႹႧჂჲႣჲიႨჳႩႹႭდდႨშჳდქႹႨშႼႨშჳდႨჳხდჵႣჵჂႨႲႭႣშჂჵისႹႨჂႨႲႹჵჇႧჂჲდႨჾႣႩჳჂჾႣჵისႼჰႨჱႣჵჵႨეႣႨႲႹჳჵდხსდდႨႧდჲშდႭჲႹდႨეႣხႣსჂდႨႩჇႭჳႣႨႾႹჲႽႨႩႹსდႧსႹႨႽႨსჂႧდქႹႨსდႨႹჱდჶႣნ\""
   ]
  },
  {
   "cell_type": "code",
   "execution_count": 3,
   "id": "c5e6a583",
   "metadata": {},
   "outputs": [
    {
     "name": "stdout",
     "output_type": "stream",
     "text": [
      "28  ႨდႹჂჵსႣჲჳႭშႩႼႧიႲხჾჰქჇჱႽჶეႠႾნ\n"
     ]
    }
   ],
   "source": [
    "s_freq = {}\n",
    "for i in s:\n",
    "    if i not in s_freq:\n",
    "        s_freq[i] = 1\n",
    "    else:\n",
    "        s_freq[i] += 1\n",
    "s_freq = {k: v for k, v in sorted(s_freq.items(), key=lambda x: -x[1])}\n",
    "print(len(s_freq.keys()),\"  \", *s_freq, sep='')"
   ]
  },
  {
   "cell_type": "code",
   "execution_count": 4,
   "id": "b7475b31",
   "metadata": {},
   "outputs": [
    {
     "ename": "NameError",
     "evalue": "name 'hero_freq' is not defined",
     "output_type": "error",
     "traceback": [
      "\u001b[0;31m---------------------------------------------------------------------------\u001b[0m",
      "\u001b[0;31mNameError\u001b[0m                                 Traceback (most recent call last)",
      "Input \u001b[0;32mIn [4]\u001b[0m, in \u001b[0;36m<cell line: 1>\u001b[0;34m()\u001b[0m\n\u001b[0;32m----> 1\u001b[0m decoder \u001b[38;5;241m=\u001b[39m {x:y \u001b[38;5;28;01mfor\u001b[39;00m (x,y) \u001b[38;5;129;01min\u001b[39;00m \u001b[38;5;28mzip\u001b[39m(s_freq\u001b[38;5;241m.\u001b[39mkeys(),\u001b[38;5;28mlist\u001b[39m(\u001b[43mhero_freq\u001b[49m\u001b[38;5;241m.\u001b[39mkeys())[:\u001b[38;5;241m28\u001b[39m])}\n\u001b[1;32m      2\u001b[0m \u001b[38;5;28;01mfor\u001b[39;00m i \u001b[38;5;129;01min\u001b[39;00m s:\n\u001b[1;32m      3\u001b[0m     \u001b[38;5;28mprint\u001b[39m(decoder[i], end\u001b[38;5;241m=\u001b[39m\u001b[38;5;124m\"\u001b[39m\u001b[38;5;124m\"\u001b[39m)\n",
      "\u001b[0;31mNameError\u001b[0m: name 'hero_freq' is not defined"
     ]
    }
   ],
   "source": [
    "decoder = {x:y for (x,y) in zip(s_freq.keys(),list(hero_freq.keys())[:28])}\n",
    "for i in s:\n",
    "    print(decoder[i], end=\"\")\n",
    "#ничего не понимаю"
   ]
  },
  {
   "cell_type": "code",
   "execution_count": 5,
   "id": "a5ad6d97",
   "metadata": {},
   "outputs": [
    {
     "name": "stdout",
     "output_type": "stream",
     "text": [
      "86 ႨႲ Ⴃჵ Ⴜჰ Ⴈჳ ႩႹ დႨ ჵჂ Ⴈშ შჂ Ⴈს ႹႭ ჾႣ ჵი ჂႨ სႹ ის ქႹ ႨႩ Ⴙჲ დქ ႹႨ ႽႨ დჳ ႼႨ ხჂ ჲდ სႼ ჰႨ Ⴢჵ ႲႹ Ⴇჲ Ⴍჾ Ⴈჲ დႩ ჳჲ ႨჇ ႨႠ ჲႹ ႹႹ ჱჶ დს ჂႽ Ⴈჵ ႭႹ ႧჂ ჲႣ ჲი Ⴍდ შჳ შႼ ჳდ ხდ ჵႣ ႭႣ ႨჂ Ⴙჵ ჇႧ Ⴢჲ Ⴉჳ Ⴢჾ Ⴈჱ ჵႨ ეႣ Ⴙჳ ჵდ ხს დდ ႨႧ დჲ შდ Ⴍჲ Ⴙდ Ⴈე Ⴃხ Ⴃს Ⴢდ ჇႭ ჳႣ ႨႾ სდ Ⴇს სჂ Ⴇდ Ⴙჱ დჶ Ⴃნ\n"
     ]
    }
   ],
   "source": [
    "s_freq2 = {}\n",
    "for i_ in range(0,len(s),2):\n",
    "    i = s[i_:i_+2]\n",
    "    if i not in s_freq2:\n",
    "        s_freq2[i] = 1\n",
    "    else:\n",
    "        s_freq2[i] += 1\n",
    "s_freq2 = {k: v for k, v in sorted(s_freq2.items(), key=lambda x: -x[1])}\n",
    "print(len(s_freq2.keys()), *s_freq2)"
   ]
  },
  {
   "cell_type": "code",
   "execution_count": 22,
   "id": "5bed0e87",
   "metadata": {},
   "outputs": [
    {
     "name": "stdout",
     "output_type": "stream",
     "text": [
      "esoa rl rawa.e ithfnouilg aoa mtc.a ithfnouilg .eds. p x.tyt sttbkeiav dt.thlg oeydt mhtca.n.u sdthee rseyt rl rse sweonoa mhnraouit a mtopca.e fndsafnouilg bnoo jn mtsoewiee ce.reh.te jnwniae dphsn qt.v dtiecit v iaceyt ie tbeknz"
     ]
    }
   ],
   "source": [
    "\n",
    "\n",
    "a1 = 'ႨდႹჂჵსႣჲჳႭშႩႼႧიႲხჾჰქჇჱႽჶეႠႾნ'\n",
    "a2 = 'оеанитслрвкмдупяьыгзбчйжшхюцэщфъё'\n",
    "a3 = ' etaoin.shrdlcumwfgypbvkjxqz'\n",
    "\n",
    "for i in s:\n",
    "    t = a1.find(i)\n",
    "    print(a3[t], end='')\n"
   ]
  },
  {
   "cell_type": "code",
   "execution_count": null,
   "id": "bd09156b",
   "metadata": {},
   "outputs": [],
   "source": [
    "etaoinshrdlcumwfgypbvkjxqz"
   ]
  }
 ],
 "metadata": {
  "kernelspec": {
   "display_name": "Python 3 (ipykernel)",
   "language": "python",
   "name": "python3"
  },
  "language_info": {
   "codemirror_mode": {
    "name": "ipython",
    "version": 3
   },
   "file_extension": ".py",
   "mimetype": "text/x-python",
   "name": "python",
   "nbconvert_exporter": "python",
   "pygments_lexer": "ipython3",
   "version": "3.10.2"
  }
 },
 "nbformat": 4,
 "nbformat_minor": 5
}
